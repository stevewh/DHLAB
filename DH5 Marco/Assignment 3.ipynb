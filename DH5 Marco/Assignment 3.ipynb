{
 "cells": [
  {
   "cell_type": "code",
   "execution_count": 1,
   "metadata": {
    "scrolled": true
   },
   "outputs": [],
   "source": [
    "#load needed libraries\n",
    "import mylib\n",
    "\n",
    "#to reload the libraries everytime you add smth\n",
    "%reload_ext autoreload\n",
    "%autoreload 2"
   ]
  },
  {
   "cell_type": "code",
   "execution_count": 2,
   "metadata": {
    "scrolled": true
   },
   "outputs": [
    {
     "name": "stdout",
     "output_type": "stream",
     "text": [
      "travertine: rocks - chemische Sedimente\n"
     ]
    }
   ],
   "source": [
    "url = 'https://edh-www.adw.uni-heidelberg.de/edh/inschrift/HD000042&lang=en' # inspect website to find particular item code\n",
    "\n",
    "#mylib.soupify(url) #create Beautiful Soup. In this case, it will not print anything in order not to create confusion. If you want to print the Soup, then check mylib.py\n",
    "\n",
    "mylib.findMaterial(url) #to find what you are looking for, specifically material"
   ]
  },
  {
   "cell_type": "code",
   "execution_count": null,
   "metadata": {},
   "outputs": [],
   "source": []
  },
  {
   "cell_type": "code",
   "execution_count": null,
   "metadata": {},
   "outputs": [],
   "source": []
  }
 ],
 "metadata": {
  "kernelspec": {
   "display_name": "Python 3",
   "language": "python",
   "name": "python3"
  },
  "language_info": {
   "codemirror_mode": {
    "name": "ipython",
    "version": 3
   },
   "file_extension": ".py",
   "mimetype": "text/x-python",
   "name": "python",
   "nbconvert_exporter": "python",
   "pygments_lexer": "ipython3",
   "version": "3.7.4"
  }
 },
 "nbformat": 4,
 "nbformat_minor": 2
}
