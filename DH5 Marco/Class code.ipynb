{
 "cells": [
  {
   "cell_type": "code",
   "execution_count": 1,
   "metadata": {
    "scrolled": true
   },
   "outputs": [],
   "source": [
    "class Manga:          #Japanese comics\n",
    "    tit = None   # title\n",
    "    origTit = \"\" # original title\n",
    "    pub = \"\" #publisher \n",
    "    aut = \"\" #author\n",
    "    cat = \"\" #category\n",
    "    year = \"\" #serialization year\n",
    "    bib = None #number of volumes and chapters (vol, chap)\n",
    "    \n",
    "    def __init__(self, tit):\n",
    "        self.tit = tit\n",
    "    \n",
    "    def setVol(self,vol,chap):\n",
    "        self.bib = (vol,chap)\n",
    "    \n",
    "    def getvol(self):\n",
    "        return self.bib[0]\n",
    "    \n",
    "    def getchap(self):\n",
    "        return self.bib[1]"
   ]
  },
  {
   "cell_type": "code",
   "execution_count": 2,
   "metadata": {
    "scrolled": true
   },
   "outputs": [
    {
     "data": {
      "text/plain": [
       "'Pretty Guardian Sailor Moon'"
      ]
     },
     "execution_count": 2,
     "metadata": {},
     "output_type": "execute_result"
    }
   ],
   "source": [
    "m1 = Manga(\"Pretty Guardian Sailor Moon\") # set the title\n",
    "m1.tit"
   ]
  },
  {
   "cell_type": "code",
   "execution_count": 3,
   "metadata": {},
   "outputs": [],
   "source": [
    "m1.origTit = \"美少女戦士セーラームーン\" #insert other info\n",
    "m1.pub = \"Kodansha\"\n",
    "m1.aut = \"Naoko Takeuchi\"\n",
    "m1.cat = \"Shoujo\"\n",
    "m1.year = \"1991-1997\"\n",
    "\n",
    "#print(m1.origTit)  #the following prints were written to make sure that everything works\n",
    "#print(m1.pub)\n",
    "#print(m1.aut)\n",
    "#print(m1.cat)\n",
    "#print(m1.year)"
   ]
  },
  {
   "cell_type": "code",
   "execution_count": 4,
   "metadata": {
    "scrolled": true
   },
   "outputs": [
    {
     "name": "stdout",
     "output_type": "stream",
     "text": [
      "18\n",
      "61\n"
     ]
    }
   ],
   "source": [
    "m1.setVol(18,61) #state how many volumes and chapters\n",
    "print(m1.getvol())\n",
    "print(m1.getchap())"
   ]
  },
  {
   "cell_type": "code",
   "execution_count": 48,
   "metadata": {},
   "outputs": [],
   "source": [
    "class MangaRating:   #define class for manga rating\n",
    "    x = 0 #like\n",
    "    y = 0 #dislike\n",
    "    \n",
    "    def rateMe(self):       #to rate the manga\n",
    "        answer = None\n",
    "        while answer not in (\"yes\", \"no\"):\n",
    "            answer = input(\"Did you like it? Input yes or no.\")\n",
    "            if answer == \"yes\":  #adds 1 to the number of likes\n",
    "                self.x = self.x+1\n",
    "            elif answer == \"no\": #adds 1 to the number of dislikes\n",
    "                self.y = self.y+1\n",
    "            else:\n",
    "                print(\"Input yes or no.\")   #if you input something different from yes and no\n",
    "        print(\"Likes: \"+str(self.x))\n",
    "        print(\"Dislikes: \"+str(self.y))"
   ]
  },
  {
   "cell_type": "code",
   "execution_count": 49,
   "metadata": {},
   "outputs": [],
   "source": [
    "r1 = MangaRating()"
   ]
  },
  {
   "cell_type": "code",
   "execution_count": 52,
   "metadata": {},
   "outputs": [
    {
     "name": "stdout",
     "output_type": "stream",
     "text": [
      "Did you like it? Input yes or no.no\n",
      "Likes: 2\n",
      "Dislikes: 1\n"
     ]
    }
   ],
   "source": [
    "r1.rateMe()"
   ]
  },
  {
   "cell_type": "code",
   "execution_count": null,
   "metadata": {},
   "outputs": [],
   "source": []
  }
 ],
 "metadata": {
  "kernelspec": {
   "display_name": "Python 3",
   "language": "python",
   "name": "python3"
  },
  "language_info": {
   "codemirror_mode": {
    "name": "ipython",
    "version": 3
   },
   "file_extension": ".py",
   "mimetype": "text/x-python",
   "name": "python",
   "nbconvert_exporter": "python",
   "pygments_lexer": "ipython3",
   "version": "3.7.4"
  }
 },
 "nbformat": 4,
 "nbformat_minor": 2
}
