{
 "cells": [
  {
   "cell_type": "code",
   "execution_count": 1,
   "metadata": {},
   "outputs": [],
   "source": [
    "#load needed libraries\n",
    "import urllib.request\n",
    "from bs4 import BeautifulSoup\n",
    "import re\n",
    "import pandas as pd\n",
    "\n",
    "# Create query variables\n",
    "# base url string of site\n",
    "urlBase = \"https://edh-www.adw.uni-heidelberg.de\"\n",
    "# query parameters for the url, page size set to 100\n",
    "urlQueryBase = \"/inschrift/erweiterteSuche?hd_nr=&tm_nr=&beleg=c&land=&fo_antik=&fo_modern=&fundstelle=&region=&compFundjahr=eq&fundjahr=&aufbewahrung=&inschriftgattung=&sprache=L&inschrifttraeger=&compHoehe=eq&hoehe=&compBreite=eq&breite=&compTiefe=eq&tiefe=&bh=&palSchreibtechnik=&dat_tag=&dat_monat=&dat_jahr_a=&dat_jahr_e=&hist_periode=&religion=&literatur=&kommentar=&p_name=&p_praenomen=&p_nomen=&p_cognomen=&p_supernomen=&p_tribus=&p_origo=&p_geschlecht=&p_status=&compJahre=eq&p_lJahre=&compMonate=eq&p_lMonate=&compTage=eq&p_lTage=&compStunden=eq&p_lStunden=&atext1=&bool=AND&atext2=&beleg89=ja&nurMitFoto=ja&sort=hd_nr&anzahl=100&addFeldMaterial=ja&addFeldDTyp=ja&addFeldIGat=ja&start=\"\n",
    "# offset of the query\n",
    "offset = 0\n",
    "# parameter to specify language as english\n",
    "paramLang = \"&lang=en\"\n",
    "\n",
    "#create query\n",
    "url = urlBase + urlQueryBase + str(offset)\n",
    "#print(url)"
   ]
  },
  {
   "cell_type": "code",
   "execution_count": 2,
   "metadata": {},
   "outputs": [],
   "source": [
    "#1. Load query results page\n",
    "f = urllib.request.urlopen(url)\n",
    "htmlDocString = f.read() \n",
    "f.close()\n",
    "# take a quick look at the html\n",
    "#print(htmlDocString)"
   ]
  },
  {
   "cell_type": "code",
   "execution_count": 3,
   "metadata": {},
   "outputs": [],
   "source": [
    "#2. Find a single result\n",
    "\n",
    "#    - Create BeautifulSoup from result string\n",
    "htmlSoup = BeautifulSoup(htmlDocString,'html.parser')\n",
    "#print(htmlSoup.prettify())\n",
    "\n",
    "#    - Get a list of all results reffer 'table' elements of class 'treffertabelle'\n",
    "tableRefferList = htmlSoup.select('table.treffertabelle')\n",
    "#print(type(tableRefferList)) #<class 'list'>\n",
    "#print(len(tableRefferList))  #100\n",
    "\n",
    "#set curTable to 3rd table scrap info for a single result while developing\n",
    "#later this will just be a loop variable\n",
    "curTable = tableRefferList[4]\n",
    "#print (curTable.prettify())"
   ]
  },
  {
   "cell_type": "code",
   "execution_count": 8,
   "metadata": {},
   "outputs": [
    {
     "name": "stdout",
     "output_type": "stream",
     "text": [
      "travertine: rocks - chemische Sedimente\n"
     ]
    }
   ],
   "source": [
    "######################################################\n",
    "## code to debug the \"access denied\" issue\n",
    "######################################################\n",
    "import requests\n",
    "# inspect website to find particular item code\n",
    "url = 'https://edh-www.adw.uni-heidelberg.de/edh/inschrift/HD000042&lang=en'\n",
    "\n",
    "badresponse = requests.get(url) #access the website with requests library\n",
    "#print (badresponse.text)\n",
    "#print(badresponse.status_code)\n",
    "#print (\"-------------\")\n",
    "\n",
    "# spoofing user agent\n",
    "user_agent = 'Mozilla/5.0 (Macintosh; Intel Mac OS X 10_9_3) AppleWebKit/537.36 (KHTML, like Gecko) Chrome/35.0.1916.47 Safari/537.36'\n",
    "goodresponse = requests.get(url, headers={\"User-agent\":user_agent}) #access the website with requests library\n",
    "#print(goodresponse.status_code)\n",
    "\n",
    "######################################################\n",
    "## Code to understand what's bad with the html \n",
    "######################################################\n",
    "\n",
    "from bs4 import BeautifulSoup\n",
    "import requests\n",
    "\n",
    "# inspect website to find particular item code\n",
    "url = 'https://edh-www.adw.uni-heidelberg.de/edh/inschrift/HD000042&lang=en'\n",
    "\n",
    "user_agent = 'Mozilla/5.0 (Macintosh; Intel Mac OS X 10_9_3) AppleWebKit/537.36 (KHTML, like Gecko) Chrome/35.0.1916.47 Safari/537.36'\n",
    "response = requests.get(url, headers={\"User-agent\":user_agent}) #access the website with requests library\n",
    "\n",
    "#parse HTML and save to BeautifulSoup object\n",
    "bigsoup = BeautifulSoup(response.text, \"html.parser\")\n",
    "## the html parser give a wrong html (check for</body></html> in wrong position)\n",
    "#print (\"--------------------------------------start------------------------------------\")\n",
    "#print(bigsoup)\n",
    "#print (\"--------------------------------------end------------------------------------\")\n",
    "\n",
    "\n",
    "######################################################\n",
    "## the solution\n",
    "######################################################\n",
    "\n",
    "from bs4 import BeautifulSoup\n",
    "import requests\n",
    "\n",
    "# inspect website to find particular item code\n",
    "url = 'https://edh-www.adw.uni-heidelberg.de/edh/inschrift/HD000042&lang=en'\n",
    "\n",
    "user_agent = 'Mozilla/5.0 (Macintosh; Intel Mac OS X 10_9_3) AppleWebKit/537.36 (KHTML, like Gecko) Chrome/35.0.1916.47 Safari/537.36'\n",
    "response = requests.get(url, headers={\"User-agent\":user_agent}) #access the website with requests library\n",
    "\n",
    "#parse HTML and save to BeautifulSoup object\n",
    "bigsoup = BeautifulSoup(response.text, \"html.parser\")\n",
    "\n",
    "# no matter in what table, looking for <td>material</td> --> orginal is <td><b>material</b></td>\n",
    "material = bigsoup.find('td', text='material').find_next('td')\n",
    "print(material.text)"
   ]
  },
  {
   "cell_type": "code",
   "execution_count": null,
   "metadata": {},
   "outputs": [],
   "source": []
  }
 ],
 "metadata": {
  "kernelspec": {
   "display_name": "Python 3",
   "language": "python",
   "name": "python3"
  },
  "language_info": {
   "codemirror_mode": {
    "name": "ipython",
    "version": 3
   },
   "file_extension": ".py",
   "mimetype": "text/x-python",
   "name": "python",
   "nbconvert_exporter": "python",
   "pygments_lexer": "ipython3",
   "version": "3.7.4"
  }
 },
 "nbformat": 4,
 "nbformat_minor": 2
}
