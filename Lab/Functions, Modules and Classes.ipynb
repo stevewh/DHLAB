{
 "cells": [
  {
   "cell_type": "markdown",
   "metadata": {
    "slideshow": {
     "slide_type": "slide"
    }
   },
   "source": [
    "# Managing code: comments, functions, modules and classes\n",
    "\n",
    "\n",
    "\n",
    "### ECC058\n",
    "\n",
    "### Prof. Stephen White\n",
    "#### stephen.white@unive.it"
   ]
  },
  {
   "cell_type": "markdown",
   "metadata": {},
   "source": [
    "# Managing code\n",
    "\n",
    "-  To manage very large and/or complex code we can use: \n",
    "   - Comments - short statements of explanation used to document complexity\n",
    "   - Functions - callable set of statements with optional inputs and outputs\n",
    "   - Docstrings - commentary used to document a function\n",
    "   - Modules - a .py file containing Python code usually for a related set of operations\n",
    "   - Classes - used for Object Oriented Programming (OOP) where data and behavior are grouped into objects"
   ]
  },
  {
   "cell_type": "markdown",
   "metadata": {},
   "source": [
    "Let's create a file `mylib.py` with the following code in it.\n",
    "\n",
    "```python\n",
    "print (\"Loading MYLIB library\")\n",
    "\n",
    "def square(x):\n",
    "    \"\"\"\n",
    "      Square the input number\n",
    "      Args:\n",
    "         x: input number\n",
    "      Returns:\n",
    "         the result of multiplying the number by itself\n",
    "    \"\"\"\n",
    "    return x**2 # raise input to the second power\n",
    "```"
   ]
  },
  {
   "cell_type": "markdown",
   "metadata": {},
   "source": [
    "Now you can import your lib and invoke the functions within it.\n",
    "\n",
    "(Restart the notebook if something is not working)"
   ]
  },
  {
   "cell_type": "code",
   "execution_count": null,
   "metadata": {},
   "outputs": [],
   "source": [
    "import mylib"
   ]
  },
  {
   "cell_type": "code",
   "execution_count": null,
   "metadata": {},
   "outputs": [],
   "source": [
    "import mylib"
   ]
  },
  {
   "cell_type": "code",
   "execution_count": null,
   "metadata": {},
   "outputs": [],
   "source": [
    "mylib.square(3)"
   ]
  },
  {
   "cell_type": "markdown",
   "metadata": {},
   "source": [
    "What happens if we add a new function to our library?\n",
    "\n",
    "Let's try adding (copy/pasting) the function below in the `mylib.py` file:\n",
    "\n",
    "```python\n",
    "def cube(x):\n",
    "    return x**3\n",
    "```"
   ]
  },
  {
   "cell_type": "code",
   "execution_count": null,
   "metadata": {},
   "outputs": [],
   "source": [
    "mylib.cube(2)"
   ]
  },
  {
   "cell_type": "markdown",
   "metadata": {},
   "source": [
    "The above error is because python is not reloading the library we updated.\n",
    "\n",
    "Try restarting the kernel."
   ]
  },
  {
   "cell_type": "code",
   "execution_count": null,
   "metadata": {},
   "outputs": [],
   "source": [
    "import mylib\n",
    "mylib.cube(2)"
   ]
  },
  {
   "cell_type": "markdown",
   "metadata": {},
   "source": [
    "To avoid restarting the kernel by hand and reloading the library every-time we fix something you need to add the following configuration at the beginning of you notebook."
   ]
  },
  {
   "cell_type": "code",
   "execution_count": null,
   "metadata": {},
   "outputs": [],
   "source": [
    "%reload_ext autoreload\n",
    "%autoreload 2"
   ]
  },
  {
   "cell_type": "code",
   "execution_count": null,
   "metadata": {},
   "outputs": [],
   "source": [
    "import mylib"
   ]
  },
  {
   "cell_type": "code",
   "execution_count": null,
   "metadata": {},
   "outputs": [],
   "source": [
    "mylib.pwr(2,3)"
   ]
  },
  {
   "cell_type": "markdown",
   "metadata": {},
   "source": [
    "The re-imports your library when you execute some code. Note the \"Loading MYLIB library\" output."
   ]
  },
  {
   "cell_type": "markdown",
   "metadata": {},
   "source": [
    "# Exercise \n",
    "Create a library that will:\n",
    " - Will grab soup for a URL\n",
    " - Will return a metadata value from a string"
   ]
  },
  {
   "cell_type": "markdown",
   "metadata": {},
   "source": [
    "# Classes"
   ]
  },
  {
   "cell_type": "markdown",
   "metadata": {},
   "source": [
    "We have seen several *variable types* which store data and provide some useful functions, e.g., **list** and **dictionary**.\n",
    "```Python\n",
    "L = [5,3,7,1,-9]\n",
    "L.sort()\n",
    "```"
   ]
  },
  {
   "cell_type": "markdown",
   "metadata": {},
   "source": [
    "This is achived by the definition of a **class**.\n",
    "\n",
    "We call **class** the definition of a *group of properties* and a *group of functions* that process them.\n",
    "\n",
    "We call **object** a specific instance of a **class** that can be stored/referred to as a variable."
   ]
  },
  {
   "cell_type": "code",
   "execution_count": null,
   "metadata": {},
   "outputs": [],
   "source": [
    "class Inscription:\n",
    "    inv = None   # Initial value\n",
    "    geo = None   # (Lat, Long)\n",
    "    lang = \"\"\n",
    "    matType = \"\"\n",
    "    tpq = \"\"\n",
    "    tpa = \"\"\n",
    "    iType = \"epitaph\" #default\n",
    "    \n",
    "    def __init__(self, inv):\n",
    "        self.inv = inv\n",
    "        \n",
    "    def setGeo(self,Lat,Long):\n",
    "        self.geo = (Lat,Long)\n",
    "        \n",
    "    def getLat(self):\n",
    "        return self.geo[0]"
   ]
  },
  {
   "cell_type": "code",
   "execution_count": null,
   "metadata": {},
   "outputs": [],
   "source": [
    "i42 = Inscription(\"HD000043\")\n",
    "i42.lang = \"Latin\"\n",
    "i42.setGeo(9.8,44.25)\n"
   ]
  },
  {
   "cell_type": "code",
   "execution_count": null,
   "metadata": {},
   "outputs": [],
   "source": [
    "i42.inv"
   ]
  },
  {
   "cell_type": "code",
   "execution_count": null,
   "metadata": {},
   "outputs": [],
   "source": [
    "#print (i)\n",
    "print (i42.getLat())"
   ]
  },
  {
   "cell_type": "code",
   "execution_count": null,
   "metadata": {},
   "outputs": [],
   "source": [
    "p.x = 3\n",
    "p.y = 7\n",
    "print (p.x, p.y)"
   ]
  },
  {
   "cell_type": "markdown",
   "metadata": {},
   "source": [
    "### *self*  referencing\n",
    "You can enrich classes with methods and functions according to your needs.\n",
    "\n",
    "Note the use of the `self` keyword. This is used to access the variables and functions of the class (rather than something defined somewhere else). In fact, `self` should always be specified as the first parameter of a function, but it is implicit when invoking the function on an instance variable."
   ]
  },
  {
   "cell_type": "code",
   "execution_count": null,
   "metadata": {},
   "outputs": [],
   "source": [
    "class Point:\n",
    "    x = 0.0   # Initial value\n",
    "    y = 0.0   # Initial value\n",
    "    \n",
    "    def go_up(self):\n",
    "        self.y += 1.0"
   ]
  },
  {
   "cell_type": "code",
   "execution_count": null,
   "metadata": {},
   "outputs": [],
   "source": [
    "p = Point()\n",
    "print (p.x, p.y)\n",
    "p.go_up()\n",
    "print (p.x, p.y)"
   ]
  },
  {
   "cell_type": "markdown",
   "metadata": {},
   "source": [
    "Another example..."
   ]
  },
  {
   "cell_type": "code",
   "execution_count": null,
   "metadata": {},
   "outputs": [],
   "source": [
    "class Point:\n",
    "    x = 0.0   # Initial value\n",
    "    y = 0.0   # Initial value\n",
    "    \n",
    "    def go_up(self):\n",
    "        self.y += 1.0\n",
    "\n",
    "    def distance_from(self, other_point):\n",
    "        return ( (self.x - other_point.x)**2 + \n",
    "                 (self.y - other_point.y)**2 ) **0.5"
   ]
  },
  {
   "cell_type": "code",
   "execution_count": null,
   "metadata": {},
   "outputs": [],
   "source": [
    "p1 = Point()\n",
    "p1.x = -1\n",
    "p1.y = -1\n",
    "p2 = Point()\n",
    "p2.x = 2\n",
    "p2.y = 3\n",
    "print (p1.distance_from(p2))"
   ]
  },
  {
   "cell_type": "markdown",
   "metadata": {},
   "source": [
    "Classes have special methods.\n",
    "\n",
    "Two useful ones are:\n",
    " - initialization\n",
    " - string conversion"
   ]
  },
  {
   "cell_type": "code",
   "execution_count": null,
   "metadata": {},
   "outputs": [],
   "source": [
    "class Point:\n",
    "    x = 0.0   # Initial value\n",
    "    y = 0.0   # Initial value\n",
    "    \n",
    "    def __init__(self, inx, iny):\n",
    "        self.x = inx\n",
    "        self.y = iny\n",
    "                \n",
    "    def __str__(self):\n",
    "        return \"{\" + str(self.x) +\",\"+ str(self.y) + \"}\"\n",
    "\n",
    "    def go_up(self):\n",
    "        self.y += 1.0\n",
    "\n",
    "    def distance_from(self, other_point):\n",
    "        return ((self.x - other_point.x)**2 + \n",
    "                (self.y - other_point.y)**2   ) **0.5"
   ]
  },
  {
   "cell_type": "code",
   "execution_count": null,
   "metadata": {
    "scrolled": true
   },
   "outputs": [],
   "source": [
    "p1 = Point() #try p1 = Point() like above\n",
    "p2 = Point(2,3)\n",
    "#p3 = p2 #try making a copy of an object\n",
    "#p3.go_up()\n",
    "print (p1.distance_from(p2))\n",
    "print (p1)\n",
    "print (p2)\n",
    "#print(p3)\n",
    "#p2 is p3 #test if these are the same object"
   ]
  },
  {
   "cell_type": "markdown",
   "metadata": {},
   "source": [
    "### Misconceptions with objects\n",
    "#### Multiple construction styles\n",
    "p1 = Point() requires a constructor \"__init__\" with no parameters or with all parameters with default values\n",
    "\n",
    "p1 = Point(-1,-1) requires a constructor \"__init__\" with 2 parameters or parameters with default values\n",
    "\n",
    "In OOP having multiple functions with the same name and different parameters is called **overloading**. There are ways to achieve overloading in Python and they are beyond the scope of this course. Supplying default values for parameters, while not overloading, achieves the ability to call the function with different parameters.\n",
    "\n",
    "#### copying\n",
    "Its easy to think `p3 = p2` makes an object `p3` that is a copy of the object `p2`. Python default behavior is to copy a reference to the object, thus making `p3` an alias for `p2`.\n",
    "\n",
    "Python has a **copy** module that has a function `copy(obj)` that returns a *deep copy* of an object to take care of this.\n",
    "\n",
    "Python's builtin operator `is` can be used to detect an alias"
   ]
  },
  {
   "cell_type": "code",
   "execution_count": 1,
   "metadata": {},
   "outputs": [],
   "source": [
    "class Point:\n",
    "    x = 0.0   # Initial value\n",
    "    y = 0.0   # Initial value\n",
    "    \n",
    "    def __init__(self, inx=None, iny=None):\n",
    "        if inx != None:\n",
    "            self.x = inx\n",
    "        \n",
    "        if iny != None:\n",
    "            self.y = iny\n",
    "                \n",
    "    def __str__(self):\n",
    "        return \"{\" + str(self.x) +\",\"+ str(self.y) + \"}\"\n",
    "\n",
    "    def go_up(self, dy = None):\n",
    "        if dy == None:\n",
    "            self.y += 1.0 #hadnles call p1.go_up() using default value of None\n",
    "        else:\n",
    "            self.y += dy  # handles call p1.go_up(2) setting dy = 2\n",
    "\n",
    "    def distance_from(self, other_point):\n",
    "        return ( (self.x-other_point.x)**2 + \n",
    "                 (self.y-other_point.y)**2 ) **0.5"
   ]
  },
  {
   "cell_type": "code",
   "execution_count": 3,
   "metadata": {},
   "outputs": [
    {
     "name": "stdout",
     "output_type": "stream",
     "text": [
      "3.605551275463989\n",
      "{0.0,0.0}\n",
      "{2,3}\n",
      "{3,3}\n"
     ]
    },
    {
     "data": {
      "text/plain": [
       "True"
      ]
     },
     "execution_count": 3,
     "metadata": {},
     "output_type": "execute_result"
    }
   ],
   "source": [
    "import copy\n",
    "p1 = Point()\n",
    "p2 = Point(2,3)\n",
    "p3 = copy.copy(p2)\n",
    "p3.x += 1\n",
    "p4 = p2\n",
    "print (p1.distance_from(p2))\n",
    "print (p1)\n",
    "print (p2)\n",
    "print(p3)\n",
    "p2 is p4"
   ]
  },
  {
   "cell_type": "markdown",
   "metadata": {},
   "source": [
    "Of course you can place the Point definition in a class named `geom.py` and import it."
   ]
  },
  {
   "cell_type": "code",
   "execution_count": null,
   "metadata": {},
   "outputs": [],
   "source": [
    "from geom import Point\n",
    "\n",
    "p1 = Point(0,0)\n",
    "p2 = Point(10,10)\n",
    "print (p1.distance_from(p2))\n",
    "print (p1)\n",
    "print (p2)"
   ]
  },
  {
   "cell_type": "markdown",
   "metadata": {
    "slideshow": {
     "slide_type": "slide"
    }
   },
   "source": [
    "##### References\n",
    "\n",
    " - **Think Python. How to Think Like a Computer Scientist**. Green Tea Press. Allen Downey. Second Edition.\n",
    "   - Ch. 15 up to 17.6 (included)\n",
    " - **Python Documentation**.\n",
    "   - https://docs.python.org/3/tutorial/classes.html#a-first-look-at-classes\n",
    "   - https://realpython.com/python-comments-guide/"
   ]
  }
 ],
 "metadata": {
  "authors": [
   {
    "name": "Claudio Lucchese"
   }
  ],
  "kernelspec": {
   "display_name": "Python 3",
   "language": "python",
   "name": "python3"
  },
  "language_info": {
   "codemirror_mode": {
    "name": "ipython",
    "version": 3
   },
   "file_extension": ".py",
   "mimetype": "text/x-python",
   "name": "python",
   "nbconvert_exporter": "python",
   "pygments_lexer": "ipython3",
   "version": "3.6.5"
  }
 },
 "nbformat": 4,
 "nbformat_minor": 2
}
