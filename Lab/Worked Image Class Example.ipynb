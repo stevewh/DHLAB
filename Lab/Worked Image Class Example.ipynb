{
 "cells": [
  {
   "cell_type": "markdown",
   "metadata": {},
   "source": [
    "# ECC058 - DHLab\n",
    "\n",
    "# Worked example: URLImage Class and IIIF\n",
    "\n",
    "\n",
    "#### Prof. Stephen White\n",
    "#### stephen.white@unive.it\n",
    "\n",
    "\n",
    "#### Resources:\n",
    "https://iiif.io/api/image/2.0/#identifier\n",
    "\n",
    "**BaseURL/Region/Size/Rotation/ImageFormat**"
   ]
  },
  {
   "cell_type": "markdown",
   "metadata": {},
   "source": [
    "# Display Image from Inscription Image URL for Query Results\n",
    "1. Load query results page\n",
    "2. Find a single result\n",
    "    - Create BeautifulSoup from result string\n",
    "    - Get a list of all results reffer 'table' elements of class 'treffertabelle'\n",
    "    - Load a single result into a variable\n",
    "3. Find and load iiif image page URL link if exist\n",
    "    - Find iiif imgage page link to inscription image\n",
    "    - If exist load href property into a variable as full URL\n",
    "    - Load URL results\n",
    "4. Find and load URL for IIIF json manifest\n",
    "    - Create BeautifulSoup from result string\n",
    "    - Get a list of all results reffer 'table' elements of class 'treffertabelle'\n",
    "    - Load a single result into a dictionary variable\n",
    "    - Using the manifest, find and load into a varible the IIIF image url\n",
    "5. Display Image\n",
    "    - Create URLImage object\n",
    "    - Load Image\n",
    "    - Show Image"
   ]
  },
  {
   "cell_type": "code",
   "execution_count": null,
   "metadata": {},
   "outputs": [],
   "source": [
    "#developement commands\n",
    "%reload_ext autoreload\n",
    "%autoreload 2\n",
    "\n",
    "\n",
    "#load needed libraries\n",
    "import urllib.request\n",
    "from bs4 import BeautifulSoup\n",
    "import re,json\n",
    "import pandas as pd\n",
    "import EpiProject.urlimage as urlimage"
   ]
  },
  {
   "cell_type": "code",
   "execution_count": null,
   "metadata": {},
   "outputs": [],
   "source": [
    "# Create query variables\n",
    "# base url string of site\n",
    "urlBase = \"https://edh-www.adw.uni-heidelberg.de\"\n",
    "# query parameters for the url, page size set to 100\n",
    "urlQueryBase = \"/inschrift/erweiterteSuche?hd_nr=&tm_nr=&beleg=c&land=&fo_antik=&fo_modern=&fundstelle=&region=&compFundjahr=eq&fundjahr=&aufbewahrung=&inschriftgattung=&sprache=L&inschrifttraeger=&compHoehe=eq&hoehe=&compBreite=eq&breite=&compTiefe=eq&tiefe=&bh=&palSchreibtechnik=&dat_tag=&dat_monat=&dat_jahr_a=&dat_jahr_e=&hist_periode=&religion=&literatur=&kommentar=&p_name=&p_praenomen=&p_nomen=&p_cognomen=&p_supernomen=&p_tribus=&p_origo=&p_geschlecht=&p_status=&compJahre=eq&p_lJahre=&compMonate=eq&p_lMonate=&compTage=eq&p_lTage=&compStunden=eq&p_lStunden=&atext1=&bool=AND&atext2=&beleg89=ja&nurMitFoto=ja&sort=hd_nr&anzahl=100&addFeldMaterial=ja&addFeldDTyp=ja&addFeldIGat=ja&start=\"\n",
    "# offset of the query\n",
    "offset = 0\n",
    "# parameter to specify language as english\n",
    "paramLang = \"&lang=en\"\n",
    "\n",
    "#create query\n",
    "url = urlBase + urlQueryBase + str(offset)\n",
    "#print(url)"
   ]
  },
  {
   "cell_type": "code",
   "execution_count": null,
   "metadata": {},
   "outputs": [],
   "source": [
    "#1. Load query results page\n",
    "f = urllib.request.urlopen(url)\n",
    "htmlDocString = f.read() \n",
    "f.close()\n",
    "# take a quick look at the html\n",
    "#print(htmlDocString)\n"
   ]
  },
  {
   "cell_type": "code",
   "execution_count": null,
   "metadata": {},
   "outputs": [],
   "source": [
    "#2. Find a single result\n",
    "\n",
    "#    - Create BeautifulSoup from result string\n",
    "htmlSoup = BeautifulSoup(htmlDocString,'html.parser')\n",
    "\n",
    "#print(htmlSoup.prettify())\n",
    "\n",
    "#    - Get a list of all results reffer 'table' elements of class 'treffertabelle'\n",
    "tableRefferList = htmlSoup.select('table.treffertabelle')\n",
    "\n",
    "\n",
    "#print(type(tableRefferList)) #<class 'list'>\n",
    "#print(len(tableRefferList))  #100\n",
    "\n",
    "#    - Load a single result into a variable\n",
    "#set curTable to 3rd table scrap info for a single result while developing\n",
    "#later this will just be a loop variable\n",
    "curTable = tableRefferList[2]\n",
    "\n",
    "\n",
    "print (curTable.prettify())"
   ]
  },
  {
   "cell_type": "markdown",
   "metadata": {},
   "source": [
    "# Play Around Area - Scratch Code"
   ]
  }
 ],
 "metadata": {
  "kernelspec": {
   "display_name": "Python 3",
   "language": "python",
   "name": "python3"
  },
  "language_info": {
   "codemirror_mode": {
    "name": "ipython",
    "version": 3
   },
   "file_extension": ".py",
   "mimetype": "text/x-python",
   "name": "python",
   "nbconvert_exporter": "python",
   "pygments_lexer": "ipython3",
   "version": "3.6.5"
  }
 },
 "nbformat": 4,
 "nbformat_minor": 2
}
