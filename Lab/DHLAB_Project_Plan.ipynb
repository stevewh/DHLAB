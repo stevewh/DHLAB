{
 "cells": [
  {
   "cell_type": "markdown",
   "metadata": {},
   "source": [
    "# Paleography through space and time\n",
    "\n",
    "#### Latin epigraphic changes in the roman imperial and republic ages\n",
    "---\n",
    "## Project Overview\n",
    "    describe in general terms the purpose of the project, the time, and possibly the major steps\n",
    "\n",
    "## Project Deliverable\n",
    "    describe the final product(s)    \n",
    "     GeoDB    \n",
    "     Web Visualisation     \n",
    "\n",
    "\n",
    "## Project Schedule\n",
    "\n",
    "### Milestone 1\n",
    "  describe what the meaning is for this milestone and when it's due\n",
    "#### Task 1.1\n",
    "   Gather all data URLs by xx/xx/xx\n",
    "#### Task 1.2\n",
    "   Write script/program to extract pertinant data \n",
    "### Milestone 2"
   ]
  },
  {
   "cell_type": "code",
   "execution_count": null,
   "metadata": {},
   "outputs": [],
   "source": []
  }
 ],
 "metadata": {
  "kernelspec": {
   "display_name": "Python 3",
   "language": "python",
   "name": "python3"
  },
  "language_info": {
   "codemirror_mode": {
    "name": "ipython",
    "version": 3
   },
   "file_extension": ".py",
   "mimetype": "text/x-python",
   "name": "python",
   "nbconvert_exporter": "python",
   "pygments_lexer": "ipython3",
   "version": "3.6.5"
  }
 },
 "nbformat": 4,
 "nbformat_minor": 2
}
