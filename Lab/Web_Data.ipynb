{
 "cells": [
  {
   "cell_type": "markdown",
   "metadata": {},
   "source": [
    "# ECC058 - DHLab\n",
    "\n",
    "# Finding Web Data\n",
    "\n",
    "\n",
    "#### Prof. Stephen White\n",
    "#### stephen.white@unive.it"
   ]
  },
  {
   "cell_type": "markdown",
   "metadata": {},
   "source": [
    "## Fetching information from the Web\n",
    "There are several methods for getting data from the web.\n",
    " - Download datafiles of various formats: csv, tsv, xslx, xml, json, etc.\n",
    " - Capture response data from calling a URL to services (websites, Restful, php, asp, etcs) that returns various formats: html, xml, json, csv, text, etc.\n",
    " - With html it is often necessary to extract the data from the html using a library\n",
    " \n",
    "Python includes a `urllib` module to download Web pages as raw html as seen by the browser before the browser processes it. The same as using `view source` on the context menu, only with out the pretty printing.\n",
    "```Python\n",
    "import urllib.request\n",
    "```"
   ]
  },
  {
   "cell_type": "code",
   "execution_count": null,
   "metadata": {},
   "outputs": [],
   "source": [
    "import urllib.request\n",
    "\n",
    "urlBase = \"https://edh-www.adw.uni-heidelberg.de/inschrift/\"\n",
    "urlQueryBase = \"erweiterteSuche?hd_nr=&tm_nr=&beleg=c&land=&fo_antik=&fo_modern=&fundstelle=&region=&compFundjahr=eq&fundjahr=&aufbewahrung=&inschriftgattung=&sprache=L&inschrifttraeger=&compHoehe=eq&hoehe=&compBreite=eq&breite=&compTiefe=eq&tiefe=&bh=&palSchreibtechnik=&dat_tag=&dat_monat=&dat_jahr_a=&dat_jahr_e=&hist_periode=&religion=&literatur=&kommentar=&p_name=&p_praenomen=&p_nomen=&p_cognomen=&p_supernomen=&p_tribus=&p_origo=&p_geschlecht=&p_status=&compJahre=eq&p_lJahre=&compMonate=eq&p_lMonate=&compTage=eq&p_lTage=&compStunden=eq&p_lStunden=&atext1=&bool=AND&atext2=&beleg89=ja&nurMitFoto=ja&sort=hd_nr&anzahl=100&addFeldMaterial=ja&addFeldDTyp=ja&addFeldIGat=ja&start=\"\n",
    "offset = 0\n",
    "\n",
    "url = urlBase + urlQueryBase + str(offset)\n",
    "\n",
    "f = urllib.request.urlopen(url)\n",
    "str_all = f.read() # read the first 500 character\n",
    "f.close()\n",
    "\n",
    "print(str_all)"
   ]
  },
  {
   "cell_type": "markdown",
   "metadata": {},
   "source": [
    "## Managing HTML \n",
    "HTML is fundamentally made up of XML elements delimited by open `<tagname>` and close `</tagname>` tags. Common tagnames for HTML include html, body, script, link, div, span, p, ul, li, a, img. Several of the elements can be nested creating a tree of elements. Python3 comes with `html.parser` library which has a class *HTMLParser* which is used to write a custom parser.\n",
    "\n",
    "The easiest way to manage html is to use a library that parses raw html into a tree of html elements and provides functions for finding various parts of the tree.  \n",
    "\n",
    "BeautifulSoup is such a library. You can install it from Jupyter Notebook by\n",
    "\n",
    "``` python\n",
    "!pip install beautifulsoup4\n",
    "```\n",
    "\n",
    "After which you can import the parser class and use it as follows:\n",
    "``` python\n",
    "from bs4 import BeautifulSoup\n",
    "myHtml = # call code to get html here\n",
    "soup = BeautifulSoup(myHtml)\n",
    "```"
   ]
  },
  {
   "cell_type": "code",
   "execution_count": null,
   "metadata": {},
   "outputs": [],
   "source": [
    "#!pip install beautifulsoup4"
   ]
  },
  {
   "cell_type": "markdown",
   "metadata": {},
   "source": [
    "### Viewing Formatted HTML\n",
    "\n",
    "BeautifulSoup has a `prettify()` method to structurally indent the HTML for readability."
   ]
  },
  {
   "cell_type": "code",
   "execution_count": null,
   "metadata": {},
   "outputs": [],
   "source": [
    "# take a quick look at the html separated\n",
    "from bs4 import BeautifulSoup\n",
    "myHtml = str_all # call code to get html here\n",
    "soup = BeautifulSoup(myHtml,'html.parser')\n",
    "print(soup.prettify())"
   ]
  },
  {
   "cell_type": "markdown",
   "metadata": {},
   "source": [
    "### Accessing HTML elements\n",
    "\n",
    "BeautifySoup use a derefernce model much line python Dictionairies or pandas Dataframes, for example\n",
    "``` python\n",
    "soup.a #the first anchor element or None\n",
    "soup.a.string #the first anchor element's text or None\n",
    "```\n"
   ]
  },
  {
   "cell_type": "code",
   "execution_count": null,
   "metadata": {},
   "outputs": [],
   "source": [
    "print(\"1st anchor element =>  \",soup.a)\n",
    "print(\"1st anchor element class attribute =>  \",soup.a.get(\"class\"))\n",
    "print(\"1st anchor element href link attribute =>  \",soup.a.get(\"href\"))\n",
    "print(\"1st anchor element text =>  \",soup.a.string)\n",
    "#get second anchor\n",
    "a2 = soup.a.find_next('a')\n",
    "print(\"2nd anchor element =>  \",a2)\n",
    "print(\"2nd anchor element class attribute =>  \",a2.get(\"class\"))\n",
    "print(\"2nd anchor element href link attribute =>  \",a2.get(\"href\"))\n",
    "print(\"2nd anchor element text =>  \",a2.string)\n",
    "li1 = soup.li\n",
    "print(\"1st listItem element =>  \",li1)\n",
    "print(\"1st listItem element class attribute =>  \",li1.get(\"class\"))\n",
    "print(\"1st listItem element text =>  \",li1.string)\n"
   ]
  },
  {
   "cell_type": "code",
   "execution_count": null,
   "metadata": {},
   "outputs": [],
   "source": [
    "# look at all the hyperlinks for this web page.\n",
    "for hyperlink in soup.find_all('a'):\n",
    "    print(hyperlink.get('href'))"
   ]
  },
  {
   "cell_type": "code",
   "execution_count": null,
   "metadata": {},
   "outputs": [],
   "source": [
    "# show any table where None means no tables in HTML. This can happen when content is dynamically loaded.\n",
    "for table in soup.find_all('table'):\n",
    "    print (table.prettify(),\"\\n\")"
   ]
  },
  {
   "cell_type": "code",
   "execution_count": null,
   "metadata": {},
   "outputs": [],
   "source": [
    "# show any table where None means no tables in HTML. This can happen when content is dynamically loaded.\n",
    "# look at all the tables with of a given class attribute this web page.\n",
    "for table in soup.find_all('table'):\n",
    "    tclass = table.get('class')\n",
    "    # filter everything but tables that have class = \"treffertabelle\" which refers to another webpage information table\n",
    "    if tclass != None and isinstance(tclass,list) and tclass[0] == 'treffertabelle':\n",
    "        print (table.prettify())"
   ]
  },
  {
   "cell_type": "code",
   "execution_count": null,
   "metadata": {
    "scrolled": true
   },
   "outputs": [],
   "source": [
    "# show any table where None means no tables in HTML. This can happen when content is dynamically loaded.\n",
    "# look at all the tables with of a given class attribute this web page.\n",
    "for table in soup.find_all('table'):\n",
    "    tclass = table.get('class')\n",
    "    if tclass != None and isinstance(tclass,list) and tclass[0] == 'treffertabelle':\n",
    "        print (table.a.get('href'))"
   ]
  },
  {
   "cell_type": "code",
   "execution_count": null,
   "metadata": {
    "scrolled": true
   },
   "outputs": [],
   "source": [
    "# show any table where None means no tables in HTML. This can happen when content is dynamically loaded.\n",
    "# look at all the tables with of a given class attribute this web page.\n",
    "\n",
    "for table in soup.find_all('table'):\n",
    "    tclass = table.get('class')\n",
    "    if tclass != None and isinstance(tclass,list) and tclass[0] == 'treffertabelle':\n",
    "        break\n",
    "print (table.a.get('href'))\n",
    "url1 = urlBase + table.a.get('href')\n",
    "f = urllib.request.urlopen(url)\n",
    "epiInfoHtmlString = f.read()\n",
    "f.close()\n",
    "epiSoup = BeautifulSoup(epiInfoHtmlString,'html.parser')\n",
    "print(epiSoup.prettify())\n",
    " "
   ]
  },
  {
   "cell_type": "markdown",
   "metadata": {},
   "source": [
    "### Dynamic content requires user interaction. \n",
    "When a web page requires the user to select from choices to show information, you will need to automate the web page UI by using a UI driver as Selinium as shown below. \n",
    "\n",
    "First we should look at how to use web API's."
   ]
  },
  {
   "cell_type": "markdown",
   "metadata": {},
   "source": [
    "---\n",
    "---\n",
    "# Automating and accessing dynamic web pages - Selinium\n",
    "\n",
    "\n",
    "Some Web pages are dynamic.\n",
    "\n",
    "Their content is created inside the browser:\n",
    " - e.g., by Javascript code connecting to a database\n",
    "\n",
    "In this cases, the `urllib.request` package is not able to download content of the webpage displayed to the user.\n",
    "\n",
    "We need an actual browser simulator.\n",
    "\n",
    "We can use **Selenium**.\n",
    "\n",
    "See: http://selenium-python.readthedocs.io/\n",
    "\n",
    "Selenium is a powerful tool to simulate a user interacting with a browser.\n",
    "\n",
    "Not only it is possible to get dynamic web pages, but it is also possible to simulate users typing text, clicking, etc.\n",
    "\n",
    "To install the Selenium python package:\n",
    " - execute `pip install selenium` in the JuWe also need to install an external tool wrapping the actual browser.\n",
    "\n",
    "You can us Chrome and ChromeDriver.\n",
    "Or Firefox and GeckoDriver.\n",
    "\n",
    "See below for information and installation instructions:\n",
    " - https://sites.google.com/a/chromium.org/chromedriver/home\n",
    " \n",
    "\n",
    "On Mac, you can also install ChromDriver as follows:\n",
    " - `!brew install chromedriver`\n",
    " - This requries to install `brew` first. see https://brew.sh/index_itpyter Lab Terminal\n",
    " - exectue `!pip install selenium` in your usual Jupyter Notebook (Python 3) \n",
    " \n",
    " "
   ]
  },
  {
   "cell_type": "code",
   "execution_count": null,
   "metadata": {},
   "outputs": [],
   "source": [
    "#!pip install selenium"
   ]
  },
  {
   "cell_type": "code",
   "execution_count": null,
   "metadata": {},
   "outputs": [],
   "source": [
    "#At this point it is very easy to download the content of a Web page.\n",
    "\n",
    "\n",
    "<div class=\"navigation__container js-nav-fixed\">\n",
    "            \n",
    "            <div class=\"row\">\n",
    "                <div class=\"column large-12\">\n",
    "\n",
    "                    <nav class=\"navigation\" data-ui-more-nav=\"more-nav\">\n",
    "                        <ul class=\"navigation__list showMoreEnabled\">\n",
    "\n",
    "\n",
    "    <li class=\"navigation__item js-navigation-item\" data-nav-index=\"0\">\n",
    "                <a href=\"/video\" class=\"navigation__link\"><span class=\"icn sprite-tv-icon\"></span>Video</a>\n",
    "    </li>\n",
    "\n",
    "    <li class=\"navigation__item js-navigation-item\" data-nav-index=\"1\">\n",
    "                <a href=\"/supporters\" class=\"navigation__link\"><span class=\"icn sprite-tv-icon\"></span>Supporters</a>\n",
    "    </li>\n",
    "\n",
    "    <li class=\"navigation__item js-navigation-item\" data-nav-index=\"2\">\n",
    "                <a href=\"/tickets\" class=\"navigation__link\"><span class=\"icn sprite-tv-icon\"></span>Tickets</a>\n",
    "    </li>\n",
    "\n",
    "    <li class=\"navigation__item js-navigation-item\" data-nav-index=\"3\">\n",
    "                <a href=\"/news\" class=\"navigation__link\"><span class=\"icn sprite-tv-icon\"></span>News</a>\n",
    "    </li>\n",
    "\n",
    "    <li class=\"navigation__item js-navigation-item\" data-nav-index=\"4\">\n",
    "                <a href=\"/shop\" class=\"navigation__link\"><span class=\"icn sprite-tv-icon\"></span>Shop</a>\n",
    "    </li>\n",
    "\n",
    "    <li class=\"navigation__item js-navigation-item\" data-nav-index=\"5\">\n",
    "        <div tabindex=\"0\" class=\"navigation__link\"><span class=\"icn sprite--icon\"></span>RWC 2019<span class=\"arrow sprite-caret-down-white\"></span></div>\n",
    "            <div class=\"navigation-dropdown\">\n",
    "                <div class=\"navigation-dropdown__list-container\">\n",
    "                        <ul>\n",
    "                            ...\n",
    "                        </ul>\n",
    "                    ...\n",
    "                        <ul>\n",
    "                            ...\n",
    "                        </ul>\n",
    "                </div>\n",
    "            </div>\n",
    "            <a href=\"/tournament-overview\" class=\"navigation__link dropdown-link\"><span class=\"icn sprite-tv-icon\"></span>RWC 2019</a>\n",
    "    </li>\n",
    "\n",
    "    <li class=\"navigation__item js-navigation-item\" data-nav-index=\"6\">\n",
    "        <div tabindex=\"0\" class=\"navigation__link\"><span class=\"icn sprite-qualifying-icon\"></span>Qualifying<span class=\"arrow sprite-caret-down-white\"></span></div>\n",
    "            <div class=\"navigation-dropdown\">\n",
    "                <div class=\"navigation-dropdown__list-container\">\n",
    "                        <ul>\n",
    "                            ...\n",
    "                        </ul>\n",
    "                    ...\n",
    "                        <ul>\n",
    "                            ...\n",
    "                        </ul>\n",
    "                </div>\n",
    "            </div>\n",
    "            <a href=\"/qualifying\" class=\"navigation__link dropdown-link\"><span class=\"icn sprite-tv-icon\"></span>Qualifying</a>\n",
    "    </li>\n",
    "\n",
    "    <li class=\"navigation__item js-navigation-item\" data-nav-index=\"7\">\n",
    "        <div tabindex=\"0\" class=\"navigation__link\"><span class=\"icn sprite--icon\"></span>Info<span class=\"arrow sprite-caret-down-white\"></span></div>\n",
    "            <div class=\"navigation-dropdown\">\n",
    "                <div class=\"navigation-dropdown__list-container\">\n",
    "                        <ul class=\"navigation-dropdown__list\">\n",
    "                            <li class=\"navigation-dropdown__item navigation-dropdown__item--title\">\n",
    "                                <a href=\"/archive\" class=\"navigation-dropdown__link\">RWC Archive</a>\n",
    "                            </li>\n",
    "                        </ul>\n",
    "                        <ul class=\"navigation-dropdown__list\">\n",
    "                            <li class=\"navigation-dropdown__item navigation-dropdown__item--title\">\n",
    "                                <a href=\"/request-for-proposal\" class=\"navigation-dropdown__link\">2019 RFP</a>\n",
    "                            </li>\n",
    "                        </ul>\n",
    "                        <ul class=\"navigation-dropdown__list\">\n",
    "                            <li class=\"navigation-dropdown__item navigation-dropdown__item--title\">\n",
    "                                <a href=\"/media\" class=\"navigation-dropdown__link\">Media Information</a>\n",
    "                            </li>\n",
    "                        </ul>\n",
    "                        <ul class=\"navigation-dropdown__list\">\n",
    "                            <li class=\"navigation-dropdown__item navigation-dropdown__item--title\">\n",
    "                                <a href=\"/stats\" class=\"navigation-dropdown__link\">Statistics</a>\n",
    "                            </li>\n",
    "                        </ul>\n",
    "                        <ul class=\"navigation-dropdown__list\">\n",
    "                            <li class=\"navigation-dropdown__item navigation-dropdown__item--title\">\n",
    "                                <a href=\"/sponsor-family\" class=\"navigation-dropdown__link\">Sponsor Family</a>\n",
    "                            </li>\n",
    "                        </ul>\n",
    "                </div>\n",
    "            </div>\n",
    "            <a href=\"/media\" class=\"navigation__link dropdown-link\"><span class=\"icn sprite-tv-icon\"></span>Info</a>\n",
    "    </li>\n",
    "\n",
    "    <li class=\"navigation__item js-navigation-item\" data-nav-index=\"8\">\n",
    "                <a href=\"/social\" class=\"navigation__link\"><span class=\"icn sprite-tv-icon\"></span>Social</a>\n",
    "    </li>\n",
    "\n",
    "    <li class=\"navigation__item js-navigation-item is-hidden\" data-nav-index=\"9\">\n",
    "                <a href=\"/france2023\" class=\"navigation__link\"><span class=\"icn sprite-tv-icon\"></span>France 2023</a>\n",
    "    </li>\n",
    "\n",
    "                        <li class=\"more\"><div class=\"more-toggle\" tabindex=\"0\">More<span class=\"icn sprite-arrow-black-down\"></span></div><ul class=\"more-dropdown\"><li class=\"navigation__item js-navigation-item\" data-nav-index=\"9\">\n",
    "                <a href=\"/france2023\" class=\"navigation__link\"><span class=\"icn sprite-tv-icon\"></span>France 2023</a>\n",
    "    </li></ul></li></ul>\n",
    "\n",
    "                    </nav>\n",
    "\n",
    "                </div>\n",
    "            </div>\n",
    "        </div>\n",
    "```"
   ]
  },
  {
   "cell_type": "code",
   "execution_count": null,
   "metadata": {},
   "outputs": [],
   "source": [
    "<html>\n",
    " <body>\n",
    "  <div> ...\n",
    "           <div class=\"navigation-dropdown\">\n",
    "                <div class=\"navigation-dropdown__list-container\">\n",
    "                        <ul class=\"navigation-dropdown__list\">\n",
    "                            <li class=\"navigation-dropdown__item navigation-dropdown__item--title\">\n",
    "                                <a href=\"/archive\" class=\"navigation-dropdown__link\">RWC Archive</a>\n",
    "                            </li>\n",
    "                        </ul>\n",
    "                        <ul class=\"navigation-dropdown__list\">\n",
    "                            <li class=\"navigation-dropdown__item navigation-dropdown__item--title\">\n",
    "                                <a href=\"/request-for-proposal\" class=\"navigation-dropdown__link\">2019 RFP</a>\n",
    "                            </li>\n",
    "                        </ul>\n",
    "                        <ul class=\"navigation-dropdown__list\">\n",
    "                            <li class=\"navigation-dropdown__item navigation-dropdown__item--title\">\n",
    "                                <a href=\"/media\" class=\"navigation-dropdown__link\">Media Information</a>\n",
    "                            </li>\n",
    "                        </ul>\n",
    "                        <ul class=\"navigation-dropdown__list\">\n",
    "                            <li class=\"navigation-dropdown__item navigation-dropdown__item--title\">\n",
    "                                <a href=\"/stats\" class=\"navigation-dropdown__link\">Statistics</a>\n",
    "                            </li>\n",
    "                        </ul>\n",
    "                        <ul class=\"navigation-dropdown__list\">\n",
    "                            <li class=\"navigation-dropdown__item navigation-dropdown__item--title\">\n",
    "                                <a href=\"/sponsor-family\" class=\"navigation-dropdown__link\">Sponsor Family</a>\n",
    "                            </li>\n",
    "                        </ul>\n",
    "                </div>\n",
    "            </div>\n",
    "    ...\n",
    "  </div>\n",
    "</body>\n",
    "<html>"
   ]
  },
  {
   "cell_type": "markdown",
   "metadata": {},
   "source": [
    "## html  and xhtml and xml\n",
    "Standards that define a hierarchical structuring of data that most all browsers know how to display.\n",
    "```\n",
    "<?xml version=\"1.0\" encoding=\"UTF-8\"?>\n",
    "\n",
    "<bookstore>\n",
    "    <book>\n",
    "      <title lang=\"en\">Harry Potter</title>\n",
    "      <price>29.99</price>\n",
    "    </book>\n",
    "\n",
    "    <book>\n",
    "      <title lang=\"en\">Learning XML</title>\n",
    "      <price>39.95</price>\n",
    "    </book>\n",
    "</bookstore>\n",
    "```\n",
    "## xpath\n",
    "A standard way to address various parts of the hierarchical structure.\n",
    "\n",
    "\"/bookstore/book/title\" addresses all title nodes that exist under a book node as a way of getting all the titles of all the books.\n",
    "xpath has various alternative notations:\n",
    "//book/title\n",
    "\n",
    "xpath also allows you to test for value matching\n",
    "\n",
    "https://www.w3schools.com/xml/xpath_syntax.asp\n",
    " \n",
    "\"/html/body//div[@class='navigation-dropdown']\""
   ]
  },
  {
   "cell_type": "code",
   "execution_count": null,
   "metadata": {},
   "outputs": [],
   "source": [
    "from selenium import webdriver\n",
    "driver = webdriver.Firefox(executable_path = '/Anaconda3/geckodriver')"
   ]
  },
  {
   "cell_type": "code",
   "execution_count": null,
   "metadata": {},
   "outputs": [],
   "source": [
    "driver.get(\"https://www.rugbyworldcup.com/stats/alltime/teams/points\")"
   ]
  },
  {
   "cell_type": "code",
   "execution_count": null,
   "metadata": {},
   "outputs": [],
   "source": [
    "content = driver.find_element_by_class_name('statsSection')\n",
    "content.text"
   ]
  },
  {
   "cell_type": "code",
   "execution_count": null,
   "metadata": {},
   "outputs": [],
   "source": [
    "for line in content.text.split(\"\\n\"):\n",
    "    print (line)"
   ]
  },
  {
   "cell_type": "code",
   "execution_count": null,
   "metadata": {},
   "outputs": [],
   "source": [
    "content.text.split(\"\\n\")[4::3]"
   ]
  },
  {
   "cell_type": "code",
   "execution_count": null,
   "metadata": {},
   "outputs": [],
   "source": [
    "#from selenium import webdriver\n",
    "#driver = webdriver.Firefox(executable_path = '/Anaconda3/geckodriver')\n",
    "\n",
    "driver.get(\"https://www.rugbyworldcup.com\")\n",
    "\n",
    "# note the new browser page, place it so that you can see it and this jupyter notebook at the same time"
   ]
  },
  {
   "cell_type": "code",
   "execution_count": null,
   "metadata": {},
   "outputs": [],
   "source": [
    "#find the element with a class of 'corporate-dropdown__button' for the menu\n",
    "ddmenu = driver.find_element_by_class_name('corporate-dropdown__button')\n",
    "\n",
    "#click it\n",
    "ddmenu.click()"
   ]
  },
  {
   "cell_type": "code",
   "execution_count": null,
   "metadata": {},
   "outputs": [],
   "source": [
    "# try clicking it multiple times\n",
    "ddmenu.click()"
   ]
  },
  {
   "cell_type": "code",
   "execution_count": null,
   "metadata": {},
   "outputs": [],
   "source": [
    "# find the first element that has class `navigation__link` and text of \"Info\"\n",
    "menu = driver.find_element_by_xpath(\"//*[@class='navigation__link'and contains(text(),'Info')]\")\n",
    "\n",
    "# click it\n",
    "menu.click()"
   ]
  },
  {
   "cell_type": "code",
   "execution_count": null,
   "metadata": {},
   "outputs": [],
   "source": [
    "statsmenu = driver.find_element_by_xpath(\"//a[@class='navigation-dropdown__link'and contains(text(),'Statistics')]\")\n",
    "statsmenu.click()\n",
    "#add code wait for it to show"
   ]
  },
  {
   "cell_type": "code",
   "execution_count": null,
   "metadata": {},
   "outputs": [],
   "source": [
    "#find div that has class with \"multiple\" and \"teamVersion\" that has a child div with text of \"Most points scored\" then get child divs\n",
    "divTopTeams = driver.find_elements_by_xpath(\"//div[contains(@class,'multiple') and contains(@class,'teamVersion') and count(div[contains(text(),'Most points scored')]) > 0]/div\")\n",
    "for div in divTopTeams:\n",
    "    print(div.text)"
   ]
  },
  {
   "cell_type": "code",
   "execution_count": null,
   "metadata": {},
   "outputs": [],
   "source": [
    "linkShowAll = driver.find_element_by_xpath(\"//div[contains(@class,'multiple') and contains(@class,'teamVersion') and count(div[contains(text(),'Most points scored')]) > 0]/div/a\")\n",
    "linkShowAll.click()"
   ]
  },
  {
   "cell_type": "code",
   "execution_count": null,
   "metadata": {},
   "outputs": [],
   "source": [
    "content = driver.find_element_by_class_name('statsSection')\n",
    "for line in content.text.split(\"\\n\"):\n",
    "    print (line)"
   ]
  },
  {
   "cell_type": "code",
   "execution_count": null,
   "metadata": {},
   "outputs": [],
   "source": [
    "topTeams = content.text.split(\"\\n\")[4::3]\n",
    "topScores = content.text.split(\"\\n\")[5::3]"
   ]
  },
  {
   "cell_type": "code",
   "execution_count": null,
   "metadata": {},
   "outputs": [],
   "source": [
    "driver.close()"
   ]
  }
 ],
 "metadata": {
  "kernelspec": {
   "display_name": "Python 3",
   "language": "python",
   "name": "python3"
  },
  "language_info": {
   "codemirror_mode": {
    "name": "ipython",
    "version": 3
   },
   "file_extension": ".py",
   "mimetype": "text/x-python",
   "name": "python",
   "nbconvert_exporter": "python",
   "pygments_lexer": "ipython3",
   "version": "3.6.5"
  }
 },
 "nbformat": 4,
 "nbformat_minor": 2
}
