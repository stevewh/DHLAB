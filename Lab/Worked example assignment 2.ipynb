{
 "cells": [
  {
   "cell_type": "markdown",
   "metadata": {},
   "source": [
    "# ECC058 - DHLab\n",
    "\n",
    "# Worked example assignment 2\n",
    "\n",
    "\n",
    "#### Prof. Stephen White\n",
    "#### stephen.white@unive.it\n",
    "\n",
    "Each student will use this notebook as an example and modify it to get an inscriptions metadata value from one of the inscriptions found in assignment 1 from the EDH website."
   ]
  },
  {
   "cell_type": "markdown",
   "metadata": {},
   "source": [
    "# Find Inscription URL from Query Results\n",
    "1. Load query results page\n",
    "2. Find a single result\n",
    "    - Create BeautifulSoup from result string\n",
    "    - Get a list of all results reffer 'table' elements of class 'treffertabelle'\n",
    "    - Load a single result into a variable\n",
    "3. Find the link to the detailed page\n",
    "    - Find link element to more detailed page class 'linkLastUpdateDetail'\n",
    "    - Load href property into a variable"
   ]
  },
  {
   "cell_type": "code",
   "execution_count": null,
   "metadata": {},
   "outputs": [],
   "source": [
    "#load needed libraries\n",
    "import urllib.request\n",
    "from bs4 import BeautifulSoup\n",
    "import re\n",
    "import pandas as pd\n",
    "\n",
    "# Create query variables\n",
    "# base url string of site\n",
    "urlBase = \"https://edh-www.adw.uni-heidelberg.de\"\n",
    "# query parameters for the url, page size set to 100\n",
    "urlQueryBase = \"/inschrift/erweiterteSuche?hd_nr=&tm_nr=&beleg=c&land=&fo_antik=&fo_modern=&fundstelle=&region=&compFundjahr=eq&fundjahr=&aufbewahrung=&inschriftgattung=&sprache=L&inschrifttraeger=&compHoehe=eq&hoehe=&compBreite=eq&breite=&compTiefe=eq&tiefe=&bh=&palSchreibtechnik=&dat_tag=&dat_monat=&dat_jahr_a=&dat_jahr_e=&hist_periode=&religion=&literatur=&kommentar=&p_name=&p_praenomen=&p_nomen=&p_cognomen=&p_supernomen=&p_tribus=&p_origo=&p_geschlecht=&p_status=&compJahre=eq&p_lJahre=&compMonate=eq&p_lMonate=&compTage=eq&p_lTage=&compStunden=eq&p_lStunden=&atext1=&bool=AND&atext2=&beleg89=ja&nurMitFoto=ja&sort=hd_nr&anzahl=100&addFeldMaterial=ja&addFeldDTyp=ja&addFeldIGat=ja&start=\"\n",
    "# offset of the query\n",
    "offset = 0\n",
    "# parameter to specify language as english\n",
    "paramLang = \"&lang=en\"\n",
    "\n",
    "#create query\n",
    "url = urlBase + urlQueryBase + str(offset)\n",
    "print(url)"
   ]
  },
  {
   "cell_type": "code",
   "execution_count": null,
   "metadata": {},
   "outputs": [],
   "source": [
    "#1. Load query results page\n",
    "f = urllib.request.urlopen(url)\n",
    "htmlDocString = f.read() \n",
    "f.close()\n",
    "# take a quick look at the html\n",
    "#print(htmlDocString)\n"
   ]
  },
  {
   "cell_type": "code",
   "execution_count": null,
   "metadata": {},
   "outputs": [],
   "source": [
    "#2. Find a single result\n",
    "\n",
    "#    - Create BeautifulSoup from result string\n",
    "htmlSoup = BeautifulSoup(htmlDocString,'html.parser')\n",
    "#print(htmlSoup.prettify())\n",
    "\n",
    "#    - Get a list of all results reffer 'table' elements of class 'treffertabelle'\n",
    "tableRefferList = htmlSoup.select('table.treffertabelle')\n",
    "#print(type(tableRefferList)) #<class 'list'>\n",
    "#print(len(tableRefferList))  #100\n",
    "\n",
    "#    - Load a single result into a variable\n",
    "#set curTable to 3rd table scrap info for a single result while developing\n",
    "#later this will just be a loop variable\n",
    "curTable = tableRefferList[2]\n",
    "print (curTable.prettify())"
   ]
  },
  {
   "cell_type": "code",
   "execution_count": null,
   "metadata": {},
   "outputs": [],
   "source": [
    "for tr in curTable.select(\"tr\"):\n",
    "#    if (td.text == 'material:'):\n",
    "        print(tr.text)\n",
    "#        tdn = td.fetchNextSiblings()\n",
    "#        print(tdn[0].text)"
   ]
  },
  {
   "cell_type": "code",
   "execution_count": null,
   "metadata": {},
   "outputs": [],
   "source": [
    "#3. Find the link to the detailed page\n",
    "#    - Find link element to more detailed page class 'linkLastUpdateDetail'\n",
    "detailLinks = curTable.select('a.linkLastUpdateDetail')\n",
    "#print(detailLinks)\n",
    "\n",
    "#    - Load href property into a variable\n",
    "urlDetail = None #set to none for no detaillinks case\n",
    "for link in detailLinks:\n",
    "    urlDetail = urlBase + link.get('href') + paramLang\n",
    "    break\n",
    "print(urlDetail)"
   ]
  },
  {
   "cell_type": "code",
   "execution_count": null,
   "metadata": {},
   "outputs": [],
   "source": [
    "req = urllib.request.Request(urlDetail, headers = {'User-agent' : 'Mozilla/5.0 (Windows; U; Windows NT 5.1; de; rv:1.9.1.5) Gecko/20091102 Firefox/3.5.5'})\n",
    "f = urllib.request.urlopen(req)\n",
    "detailHtmlDocString = f.read() \n",
    "f.close()\n",
    "detailHtmlDocString"
   ]
  },
  {
   "cell_type": "code",
   "execution_count": null,
   "metadata": {},
   "outputs": [],
   "source": [
    "htmlDetailSoup = BeautifulSoup(detailHtmlDocString,'html.parser')\n",
    "print(htmlSoup.prettify())\n"
   ]
  },
  {
   "cell_type": "code",
   "execution_count": null,
   "metadata": {},
   "outputs": [],
   "source": [
    "tdFSpot = htmlDetailSoup.find('td',text='Chronological data:')\n",
    "print(tdFSpot.findNext().text)"
   ]
  }
 ],
 "metadata": {
  "kernelspec": {
   "display_name": "Python 3",
   "language": "python",
   "name": "python3"
  },
  "language_info": {
   "codemirror_mode": {
    "name": "ipython",
    "version": 3
   },
   "file_extension": ".py",
   "mimetype": "text/x-python",
   "name": "python",
   "nbconvert_exporter": "python",
   "pygments_lexer": "ipython3",
   "version": "3.6.5"
  }
 },
 "nbformat": 4,
 "nbformat_minor": 2
}
