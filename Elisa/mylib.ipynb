{
 "cells": [
  {
   "cell_type": "code",
   "execution_count": null,
   "metadata": {},
   "outputs": [],
   "source": [
    "import urllib.request\n",
    "from bs4 import BeautifulSoup\n",
    "import re\n",
    "import pandas as pd\n",
    "import requests\n",
    "\n",
    "def soupify(url):  \n",
    "    ### First, make sure the EDH website is receiving the right requests ###\n",
    "    user_agent = 'Mozilla/5.0 (Macintosh; Intel Mac OS X 10_9_3) AppleWebKit/537.36 (KHTML, like Gecko) Chrome/35.0.1916.47 Safari/537.36'\n",
    "    ingredients = requests.get(url, headers={\"User-agent\":user_agent}) #access the website with requests library\n",
    "    bigsoup = BeautifulSoup(ingredients.text, \"html.parser\") ## create Beautiful Soup object\n",
    "    print(bigsoup.prettify())    \n",
    "\n",
    "def findLanguage(url): \n",
    "    ### Create a function to Find Language ###\n",
    "    user_agent = 'Mozilla/5.0 (Macintosh; Intel Mac OS X 10_9_3) AppleWebKit/537.36 (KHTML, like Gecko) Chrome/35.0.1916.47 Safari/537.36'\n",
    "    ingredients = requests.get(url, headers={\"User-agent\":user_agent}) #access the website with requests library\n",
    "    bigsoup = BeautifulSoup(ingredients.text, \"html.parser\")\n",
    "    thelanguage = bigsoup.find('td', text='language').find_next('td')\n",
    "    print(thelanguage.text)"
   ]
  }
 ],
 "metadata": {
  "kernelspec": {
   "display_name": "Python 3",
   "language": "python",
   "name": "python3"
  },
  "language_info": {
   "codemirror_mode": {
    "name": "ipython",
    "version": 3
   },
   "file_extension": ".py",
   "mimetype": "text/x-python",
   "name": "python",
   "nbconvert_exporter": "python",
   "pygments_lexer": "ipython3",
   "version": "3.7.4"
  }
 },
 "nbformat": 4,
 "nbformat_minor": 2
}
