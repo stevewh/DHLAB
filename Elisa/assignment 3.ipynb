{
 "cells": [
  {
   "cell_type": "code",
   "execution_count": 2,
   "metadata": {},
   "outputs": [],
   "source": [
    "## import needed libraries\n",
    "import urllib.request\n",
    "from bs4 import BeautifulSoup\n",
    "import re\n",
    "import pandas as pd\n",
    "import requests\n",
    "import mylib"
   ]
  },
  {
   "cell_type": "code",
   "execution_count": 3,
   "metadata": {},
   "outputs": [],
   "source": [
    "## select url\n",
    "url = 'https://edh-www.adw.uni-heidelberg.de/edh/inschrift/HD000042&lang=en'\n"
   ]
  },
  {
   "cell_type": "code",
   "execution_count": 4,
   "metadata": {},
   "outputs": [
    {
     "name": "stdout",
     "output_type": "stream",
     "text": [
      "Latin\n"
     ]
    }
   ],
   "source": [
    "## use the function created in mylib\n",
    "mylib.findLanguage(url) "
   ]
  },
  {
   "cell_type": "code",
   "execution_count": 21,
   "metadata": {},
   "outputs": [],
   "source": [
    "#### create a class based on EDH exercises ###\n",
    "import urllib.request\n",
    "from bs4 import BeautifulSoup\n",
    "import re\n",
    "import pandas as pd\n",
    "import requests\n",
    "\n",
    "class inscription:\n",
    "    inv = None   # Initial value\n",
    "    geo = None   # (Lat, Long)\n",
    "    lang = \"\"\n",
    "    matType = \"\"\n",
    "    tpq = \"\"\n",
    "    tpa = \"\"\n",
    "    iType = None #\n",
    "    \n",
    "    def _init_(self, shape=None):\n",
    "        self.inv = inv\n",
    "        \n",
    "    def setLang(self,lang):\n",
    "        url= 'https://edh-www.adw.uni-heidelberg.de/edh/inschrift/HD000042&lang=en'\n",
    "        user_agent = 'Mozilla/5.0 (Macintosh; Intel Mac OS X 10_9_3) AppleWebKit/537.36 (KHTML, like Gecko) Chrome/35.0.1916.47 Safari/537.36'\n",
    "        ingredients = requests.get(url, headers={\"User-agent\":user_agent}) #access the website with requests library\n",
    "        bigsoup = BeautifulSoup(ingredients.text, \"html.parser\")\n",
    "        thelanguage = bigsoup.find('td', text='language').find_next('td')\n",
    "    \n",
    "    def getLang(self):\n",
    "        return self.lang\n",
    "   \n",
    "  #  def setType(self, iType): ##try with other parameters\n",
    "  #      url= 'https://edh-www.adw.uni-heidelberg.de/edh/inschrift/HD000042&lang=en'\n",
    "   #     user_agent = 'Mozilla/5.0 (Macintosh; Intel Mac OS X 10_9_3) AppleWebKit/537.36 (KHTML, like Gecko) Chrome/35.0.1916.47 Safari/537.36'\n",
    "    #    ingredients = requests.get(url, headers={\"User-agent\":user_agent}) #access the website with requests library\n",
    "     #   bigsoup = BeautifulSoup(ingredients.text, \"html.parser\")\n",
    "      #  thelanguage = bigsoup.find('td', text='type of inscription').find_next('td')\n",
    "   \n",
    " #   def getType(self):\n",
    "  #      return self.iType"
   ]
  },
  {
   "cell_type": "code",
   "execution_count": 23,
   "metadata": {},
   "outputs": [],
   "source": [
    "in1= inscription()\n",
    "in1.iType = \"epigraph\"\n"
   ]
  },
  {
   "cell_type": "code",
   "execution_count": 25,
   "metadata": {},
   "outputs": [
    {
     "name": "stdout",
     "output_type": "stream",
     "text": [
      "\n"
     ]
    },
    {
     "data": {
      "text/plain": [
       "'epigraph'"
      ]
     },
     "execution_count": 25,
     "metadata": {},
     "output_type": "execute_result"
    }
   ],
   "source": [
    "print(in1.getLang())\n",
    "in1.iType\n",
    "\n"
   ]
  },
  {
   "cell_type": "code",
   "execution_count": 7,
   "metadata": {},
   "outputs": [],
   "source": []
  },
  {
   "cell_type": "code",
   "execution_count": null,
   "metadata": {},
   "outputs": [],
   "source": []
  },
  {
   "cell_type": "code",
   "execution_count": null,
   "metadata": {},
   "outputs": [],
   "source": []
  },
  {
   "cell_type": "code",
   "execution_count": null,
   "metadata": {
    "scrolled": false
   },
   "outputs": [],
   "source": []
  },
  {
   "cell_type": "code",
   "execution_count": null,
   "metadata": {},
   "outputs": [],
   "source": []
  }
 ],
 "metadata": {
  "kernelspec": {
   "display_name": "Python 3",
   "language": "python",
   "name": "python3"
  },
  "language_info": {
   "codemirror_mode": {
    "name": "ipython",
    "version": 3
   },
   "file_extension": ".py",
   "mimetype": "text/x-python",
   "name": "python",
   "nbconvert_exporter": "python",
   "pygments_lexer": "ipython3",
   "version": "3.7.4"
  }
 },
 "nbformat": 4,
 "nbformat_minor": 2
}
